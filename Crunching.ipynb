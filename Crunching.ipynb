{
  "nbformat": 4,
  "nbformat_minor": 0,
  "metadata": {
    "colab": {
      "provenance": []
    },
    "kernelspec": {
      "name": "python3",
      "display_name": "Python 3"
    },
    "language_info": {
      "name": "python"
    }
  },
  "cells": [
    {
      "cell_type": "code",
      "execution_count": 2,
      "metadata": {
        "id": "OSiFjAWc6u5H"
      },
      "outputs": [],
      "source": [
        "import pandas as pd\n",
        "\n",
        "ticket_data = pd.read_csv('ticket_data.csv')\n",
        "cities = pd.read_csv('cities.csv')\n",
        "stations = pd.read_csv('stations.csv')\n",
        "providers = pd.read_csv('providers.csv')\n",
        "\n",
        "\n"
      ]
    },
    {
      "cell_type": "markdown",
      "source": [
        "Lecture et cration d'un objet DataFrame pour chaque fichier\n",
        "\n",
        "\n",
        "---\n",
        "\n",
        "\n",
        "\n",
        "---\n",
        "\n"
      ],
      "metadata": {
        "id": "yX8vi3-iLBRR"
      }
    },
    {
      "cell_type": "code",
      "source": [
        "ticket_data['price_in_euros'] = ticket_data['price_in_cents'] / 100\n",
        "\n",
        "min_price = ticket_data['price_in_euros'].min()\n",
        "avg_price = ticket_data['price_in_euros'].mean()\n",
        "max_price = ticket_data['price_in_euros'].max()\n",
        "\n",
        "print(f\"Minimum price: {min_price:.2f} euros\")\n",
        "print(f\"Average price: {avg_price:.2f} euros\")\n",
        "print(f\"Maximum price: {max_price:.2f} euros\")"
      ],
      "metadata": {
        "colab": {
          "base_uri": "https://localhost:8080/"
        },
        "id": "DulortP2DSq0",
        "outputId": "dfd7069b-7c56-454a-fb1e-0eeeb3656bef"
      },
      "execution_count": 3,
      "outputs": [
        {
          "output_type": "stream",
          "name": "stdout",
          "text": [
            "Minimum price: 3.00 euros\n",
            "Average price: 43.83 euros\n",
            "Maximum price: 385.50 euros\n"
          ]
        }
      ]
    },
    {
      "cell_type": "markdown",
      "source": [
        "Calcul du prix min, moyen et max\n",
        "\n",
        "---\n",
        "\n",
        "\n",
        "\n",
        "---\n",
        "\n",
        "# Nouvelle section\n"
      ],
      "metadata": {
        "id": "MBJNgx4C8rv_"
      }
    },
    {
      "cell_type": "code",
      "source": [
        "ticket_data = pd.merge(ticket_data, cities, left_on='o_city', right_on='id', how='left')\n",
        "ticket_data = ticket_data.rename(columns={'local_name': 'o_city_local_name', 'unique_name': 'o_city_name', 'latitude': 'o_latitude', 'longitude': 'o_longitude', 'population': 'o_population'})\n",
        "ticket_data = pd.merge(ticket_data, cities, left_on='d_city', right_on='id', how='left')\n",
        "ticket_data = ticket_data.rename(columns={'local_name': 'd_city_local_name', 'unique_name': 'd_city_name', 'latitude': 'd_latitude', 'longitude': 'd_longitude', 'population': 'd_population'})\n"
      ],
      "metadata": {
        "id": "qHHbf3yF8x6g"
      },
      "execution_count": 4,
      "outputs": []
    },
    {
      "cell_type": "markdown",
      "source": [
        "Jointure gauche entre les tables ticket_data et cities avec les prédicats ville d'arrivée et ville de départ et on renomme certaines colonnes pour garder la cohérence dans le DatFrame\n",
        "\n",
        "---\n",
        "\n",
        "\n",
        "\n",
        "---\n",
        "\n"
      ],
      "metadata": {
        "id": "TD6sM0dB84um"
      }
    },
    {
      "cell_type": "code",
      "source": [
        "ticket_data = pd.merge(ticket_data, stations, left_on='o_station', right_on='id', how='left')\n",
        "ticket_data = ticket_data.rename(columns={'unique_name': 'o_station_name', 'latitude': 'o_station_latitude', 'longitude': 'o_station_longitude'})\n",
        "ticket_data = pd.merge(ticket_data, stations, left_on='d_station', right_on='id', how='left')\n",
        "ticket_data = ticket_data.rename(columns={'unique_name': 'd_station_name', 'latitude': 'd_station_latitude', 'longitude': 'd_station_longitude'})\n"
      ],
      "metadata": {
        "id": "yL22O8dh8-d6",
        "colab": {
          "base_uri": "https://localhost:8080/"
        },
        "outputId": "812aa807-5739-4c12-b1ee-4832959dc6d3"
      },
      "execution_count": 5,
      "outputs": [
        {
          "output_type": "stream",
          "name": "stderr",
          "text": [
            "<ipython-input-5-b1335530726a>:1: FutureWarning: Passing 'suffixes' which cause duplicate columns {'id_x'} in the result is deprecated and will raise a MergeError in a future version.\n",
            "  ticket_data = pd.merge(ticket_data, stations, left_on='o_station', right_on='id', how='left')\n"
          ]
        }
      ]
    },
    {
      "cell_type": "markdown",
      "source": [
        "Jointure gauche entre les tables ticket_data et stations avec les prédicats ville d'arrivée et ville de départ et on renomme certaines colonnes pour garder la cohérence dans le DatFrame\n",
        "\n",
        "---\n",
        "\n",
        "\n",
        "\n",
        "---\n",
        "\n"
      ],
      "metadata": {
        "id": "U_lMvvppP8Lk"
      }
    },
    {
      "cell_type": "code",
      "source": [
        "ticket_data = pd.merge(ticket_data, providers, left_on='company', right_on='company_id', how='left')\n"
      ],
      "metadata": {
        "id": "eouW5g4N9F5r",
        "colab": {
          "base_uri": "https://localhost:8080/"
        },
        "outputId": "c6abaa52-7dc1-418a-b45d-7abd8082ee42"
      },
      "execution_count": 6,
      "outputs": [
        {
          "output_type": "stream",
          "name": "stderr",
          "text": [
            "<ipython-input-6-f5299c318841>:1: FutureWarning: Passing 'suffixes' which cause duplicate columns {'id_x'} in the result is deprecated and will raise a MergeError in a future version.\n",
            "  ticket_data = pd.merge(ticket_data, providers, left_on='company', right_on='company_id', how='left')\n"
          ]
        }
      ]
    },
    {
      "cell_type": "markdown",
      "source": [
        "Jointure gauche entre les tables ticket_data et providers avec le prédicat company\n",
        "\n",
        "---\n",
        "\n",
        "\n",
        "\n",
        "---\n",
        "\n",
        "\n",
        "\n"
      ],
      "metadata": {
        "id": "bGpaRg3hUCw4"
      }
    },
    {
      "cell_type": "code",
      "source": [
        "ticket_data['departure_ts'] = pd.to_datetime(ticket_data['departure_ts'])\n",
        "ticket_data['arrival_ts'] = pd.to_datetime(ticket_data['arrival_ts'])\n",
        "ticket_data['search_ts'] = pd.to_datetime(ticket_data['search_ts'])\n"
      ],
      "metadata": {
        "id": "WLfzGncO9JEW"
      },
      "execution_count": 7,
      "outputs": []
    },
    {
      "cell_type": "markdown",
      "source": [
        "Conversion des chaines de caractères en datatime pour pouvoir faire des opérations sur ces données par la suite \n",
        "\n",
        "---\n",
        "\n",
        "\n",
        "\n",
        "---\n",
        "\n"
      ],
      "metadata": {
        "id": "WWr7ImIRW757"
      }
    },
    {
      "cell_type": "code",
      "source": [
        "ticket_data['duration'] = ticket_data['arrival_ts'] - ticket_data['departure_ts']"
      ],
      "metadata": {
        "id": "uUTEPuMW9OUZ"
      },
      "execution_count": 8,
      "outputs": []
    },
    {
      "cell_type": "markdown",
      "source": [
        "Calcul de la durée du trajet en ajoutant une nouvelle colonne duration dans le DataFrame\n",
        "\n",
        "---\n",
        "\n",
        "\n",
        "\n",
        "---\n",
        "\n"
      ],
      "metadata": {
        "id": "H_M7VjemYLFr"
      }
    },
    {
      "cell_type": "code",
      "source": [
        "import geopy.distance\n",
        "\n",
        "def get_distance(row):\n",
        "    coords_1 = (row['o_latitude'], row['o_longitude'])\n",
        "    coords_2 = (row['d_latitude'], row['d_longitude'])\n",
        "    return geopy.distance.geodesic(coords_1, coords_2).km\n",
        "\n",
        "ticket_data['distance'] = ticket_data.apply(get_distance, axis=1)"
      ],
      "metadata": {
        "id": "oAvPyiTjG9RC"
      },
      "execution_count": 9,
      "outputs": []
    },
    {
      "cell_type": "markdown",
      "source": [
        "Calcul de la distance entre les deux villes en ajoutant une nouvelle colonne distance dans le DataFrame\n",
        "\n",
        "---\n",
        "\n",
        "\n",
        "\n",
        "---\n",
        "\n"
      ],
      "metadata": {
        "id": "bQhsqZQrYqYV"
      }
    },
    {
      "cell_type": "code",
      "source": [
        "avg_duration = ticket_data.groupby('distance')['duration'].mean()\n",
        "min_duration = ticket_data.groupby('distance')['duration'].min()\n",
        "max_duration = ticket_data.groupby('distance')['duration'].max()\n",
        "print(avg_duration)\n",
        "print(min_duration)\n",
        "print(avg_duration)\n",
        "\n"
      ],
      "metadata": {
        "id": "M9CMIi2j9TyG",
        "colab": {
          "base_uri": "https://localhost:8080/"
        },
        "outputId": "16eff86c-f66b-4c51-f212-bd1bc2512ed9"
      },
      "execution_count": 10,
      "outputs": [
        {
          "output_type": "stream",
          "name": "stdout",
          "text": [
            "distance\n",
            "18.962318               0 days 00:50:00\n",
            "19.278224               0 days 02:07:00\n",
            "20.183667               0 days 06:07:40\n",
            "21.437098               0 days 06:48:48\n",
            "24.303780     0 days 01:51:34.736842105\n",
            "                         ...           \n",
            "1669.041405             1 days 02:00:00\n",
            "1709.255369   1 days 16:32:20.362438220\n",
            "1755.788026   1 days 12:56:10.588235294\n",
            "1760.189271   4 days 23:28:10.841584158\n",
            "1875.174971             1 days 23:30:00\n",
            "Name: duration, Length: 1182, dtype: timedelta64[ns]\n",
            "distance\n",
            "18.962318     0 days 00:50:00\n",
            "19.278224     0 days 01:56:00\n",
            "20.183667     0 days 01:42:00\n",
            "21.437098     0 days 01:34:00\n",
            "24.303780     0 days 00:57:00\n",
            "                    ...      \n",
            "1669.041405   1 days 02:00:00\n",
            "1709.255369   1 days 04:40:00\n",
            "1755.788026   0 days 17:00:00\n",
            "1760.189271   1 days 14:00:00\n",
            "1875.174971   1 days 23:30:00\n",
            "Name: duration, Length: 1182, dtype: timedelta64[ns]\n",
            "distance\n",
            "18.962318               0 days 00:50:00\n",
            "19.278224               0 days 02:07:00\n",
            "20.183667               0 days 06:07:40\n",
            "21.437098               0 days 06:48:48\n",
            "24.303780     0 days 01:51:34.736842105\n",
            "                         ...           \n",
            "1669.041405             1 days 02:00:00\n",
            "1709.255369   1 days 16:32:20.362438220\n",
            "1755.788026   1 days 12:56:10.588235294\n",
            "1760.189271   4 days 23:28:10.841584158\n",
            "1875.174971             1 days 23:30:00\n",
            "Name: duration, Length: 1182, dtype: timedelta64[ns]\n"
          ]
        }
      ]
    },
    {
      "cell_type": "markdown",
      "source": [
        "Calcul de la durée min, max, moyenne par trajet\n",
        "\n",
        "---\n",
        "\n",
        "\n",
        "\n",
        "---\n",
        "\n"
      ],
      "metadata": {
        "id": "ix67gIPAZj8N"
      }
    },
    {
      "cell_type": "code",
      "source": [
        "def distance_range(distance):\n",
        "    if distance <= 200:\n",
        "        return '0-200km'\n",
        "    elif distance <= 800:\n",
        "        return '201-800km'\n",
        "    elif distance <= 2000:\n",
        "        return '801-2000km'\n",
        "    else:\n",
        "        return '2000+km'\n",
        "\n",
        "ticket_data['distance_range'] = ticket_data['distance'].apply(distance_range)"
      ],
      "metadata": {
        "id": "yn4CNo5vVobQ"
      },
      "execution_count": 11,
      "outputs": []
    },
    {
      "cell_type": "markdown",
      "source": [
        " Catégorisation de la distance en quatre tranches\n",
        "\n",
        "---\n",
        "\n",
        "\n",
        "\n",
        "---\n",
        "\n"
      ],
      "metadata": {
        "id": "yjt2mUD46vvR"
      }
    },
    {
      "cell_type": "code",
      "source": [
        "\n",
        "\n",
        "def get_avg_price_duration_by_distance_and_transport(df):\n",
        "\n",
        "    \n",
        "    distance_ranges = [(0, 200), (201, 800), (801, 2000), (2001, df['distance'].max())]\n",
        "    transport_modes = ['train', 'bus', 'carpooling']\n",
        "    results = {}\n",
        "\n",
        "   \n",
        "    for distance_range in distance_ranges:\n",
        "\n",
        "        distance_min, distance_max = distance_range\n",
        "\n",
        "        distance_filter = (df['distance'] >= distance_min) & (df['distance'] <= distance_max)\n",
        "        df_filtered = df[distance_filter]\n",
        "\n",
        "        \n",
        "        for transport_mode in transport_modes:\n",
        "\n",
        "            transport_filter = df_filtered['transport_type'] == transport_mode\n",
        "            df_transport_filtered = df_filtered[transport_filter]\n",
        "\n",
        "            avg_price = df_transport_filtered['price_in_cents'].mean() / 100\n",
        "            avg_duration = df_transport_filtered['duration'].mean()\n",
        "\n",
        "            key = f'{distance_min}-{distance_max} km {transport_mode}'\n",
        "            results[key] = {'avg_price': avg_price, 'avg_duration': avg_duration}\n",
        "\n",
        "    return results\n",
        "\n",
        "results = get_avg_price_duration_by_distance_and_transport(ticket_data)\n",
        "print(results)\n"
      ],
      "metadata": {
        "colab": {
          "base_uri": "https://localhost:8080/"
        },
        "id": "7wkhUdpWIUYw",
        "outputId": "271e06cc-d988-4e1d-d87b-d4f565f8bf9d"
      },
      "execution_count": 12,
      "outputs": [
        {
          "output_type": "stream",
          "name": "stdout",
          "text": [
            "{'0-200 km train': {'avg_price': nan, 'avg_duration': NaT}, '0-200 km bus': {'avg_price': 20.938805970149257, 'avg_duration': Timedelta('0 days 10:05:32.238805970')}, '0-200 km carpooling': {'avg_price': 19.9, 'avg_duration': Timedelta('0 days 14:15:00')}, '201-800 km train': {'avg_price': 32.65555555555556, 'avg_duration': Timedelta('0 days 12:42:13.333333333')}, '201-800 km bus': {'avg_price': 32.85911794293658, 'avg_duration': Timedelta('0 days 14:00:49.501613731')}, '201-800 km carpooling': {'avg_price': 43.385, 'avg_duration': Timedelta('0 days 10:36:15')}, '801-2000 km train': {'avg_price': nan, 'avg_duration': NaT}, '801-2000 km bus': {'avg_price': 61.12710280373832, 'avg_duration': Timedelta('1 days 00:25:07.009345794')}, '801-2000 km carpooling': {'avg_price': nan, 'avg_duration': NaT}, '2001-1875.1749712829258 km train': {'avg_price': nan, 'avg_duration': NaT}, '2001-1875.1749712829258 km bus': {'avg_price': nan, 'avg_duration': NaT}, '2001-1875.1749712829258 km carpooling': {'avg_price': nan, 'avg_duration': NaT}}\n"
          ]
        }
      ]
    },
    {
      "cell_type": "markdown",
      "source": [
        "Différence de prix moyen et durée selon le train, le bus et le covoit selon la distance du trajet \n",
        "\n",
        "---\n",
        "\n",
        "\n",
        "\n",
        "---\n",
        "\n"
      ],
      "metadata": {
        "id": "0Pa0K5nS8yLf"
      }
    },
    {
      "cell_type": "code",
      "source": [
        "# create a scatter plot of distance vs. price\n",
        "import matplotlib.pyplot as plt\n",
        "plt.scatter(ticket_data['distance'], ticket_data['price_in_euros'])\n",
        "plt.xlabel('Distance (km)')\n",
        "plt.ylabel('Price (euros)')\n",
        "plt.title('Price vs. Distance')\n",
        "plt.show()"
      ],
      "metadata": {
        "colab": {
          "base_uri": "https://localhost:8080/",
          "height": 472
        },
        "id": "8znP8a_rQSFw",
        "outputId": "21625934-184c-4ad6-dafd-749af50edceb"
      },
      "execution_count": 13,
      "outputs": [
        {
          "output_type": "display_data",
          "data": {
            "text/plain": [
              "<Figure size 640x480 with 1 Axes>"
            ],
            "image/png": "[encoded data removed]"
          },
          "metadata": {}
        }
      ]
    },
    {
      "cell_type": "markdown",
      "source": [
        "Graphique relation entre le prix et la distance \n",
        "\n",
        "---\n",
        "\n",
        "\n",
        "\n",
        "---\n",
        "\n"
      ],
      "metadata": {
        "id": "wkUwVQps9eVi"
      }
    },
    {
      "cell_type": "code",
      "source": [
        "# create a linear regression model to predict price based on distance\n",
        "from sklearn.linear_model import LinearRegression\n",
        "X = ticket_data['distance'].values.reshape(-1, 1)\n",
        "y = ticket_data['price_in_euros'].values.reshape(-1, 1)\n",
        "reg = LinearRegression().fit(X, y)\n",
        "print('Price prediction for 1000km distance:', reg.predict([[1000]])[0][0])"
      ],
      "metadata": {
        "colab": {
          "base_uri": "https://localhost:8080/"
        },
        "id": "iPwY-QckENP8",
        "outputId": "d67a7ada-e414-4956-afe9-e64cd9b7b0c4"
      },
      "execution_count": 14,
      "outputs": [
        {
          "output_type": "stream",
          "name": "stdout",
          "text": [
            "Price prediction for 1000km distance: 61.36968708693557\n"
          ]
        }
      ]
    },
    {
      "cell_type": "markdown",
      "source": [
        "prédiction du prix d'un billet pour une distance de 1000 km en utilisant la régression linéaire\n",
        "\n",
        "---\n",
        "\n",
        "\n",
        "\n",
        "---\n",
        "\n",
        "\n",
        "\n",
        "---\n",
        "\n"
      ],
      "metadata": {
        "id": "grtTnLr69-oa"
      }
    },
    {
      "cell_type": "markdown",
      "source": [],
      "metadata": {
        "id": "UVhguVxfQRNT"
      }
    }
  ]
}